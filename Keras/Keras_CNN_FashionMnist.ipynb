{
 "cells": [
  {
   "cell_type": "code",
   "execution_count": 1,
   "metadata": {},
   "outputs": [],
   "source": [
    "import numpy as np\n",
    "import pandas as pd\n",
    "import matplotlib.pyplot as plt\n",
    "import seaborn as sns"
   ]
  },
  {
   "cell_type": "code",
   "execution_count": 2,
   "metadata": {},
   "outputs": [
    {
     "data": {
      "text/html": [
       "<div>\n",
       "<style scoped>\n",
       "    .dataframe tbody tr th:only-of-type {\n",
       "        vertical-align: middle;\n",
       "    }\n",
       "\n",
       "    .dataframe tbody tr th {\n",
       "        vertical-align: top;\n",
       "    }\n",
       "\n",
       "    .dataframe thead th {\n",
       "        text-align: right;\n",
       "    }\n",
       "</style>\n",
       "<table border=\"1\" class=\"dataframe\">\n",
       "  <thead>\n",
       "    <tr style=\"text-align: right;\">\n",
       "      <th></th>\n",
       "      <th>label</th>\n",
       "      <th>pixel1</th>\n",
       "      <th>pixel2</th>\n",
       "      <th>pixel3</th>\n",
       "      <th>pixel4</th>\n",
       "      <th>pixel5</th>\n",
       "      <th>pixel6</th>\n",
       "      <th>pixel7</th>\n",
       "      <th>pixel8</th>\n",
       "      <th>pixel9</th>\n",
       "      <th>...</th>\n",
       "      <th>pixel775</th>\n",
       "      <th>pixel776</th>\n",
       "      <th>pixel777</th>\n",
       "      <th>pixel778</th>\n",
       "      <th>pixel779</th>\n",
       "      <th>pixel780</th>\n",
       "      <th>pixel781</th>\n",
       "      <th>pixel782</th>\n",
       "      <th>pixel783</th>\n",
       "      <th>pixel784</th>\n",
       "    </tr>\n",
       "  </thead>\n",
       "  <tbody>\n",
       "    <tr>\n",
       "      <th>0</th>\n",
       "      <td>2</td>\n",
       "      <td>0</td>\n",
       "      <td>0</td>\n",
       "      <td>0</td>\n",
       "      <td>0</td>\n",
       "      <td>0</td>\n",
       "      <td>0</td>\n",
       "      <td>0</td>\n",
       "      <td>0</td>\n",
       "      <td>0</td>\n",
       "      <td>...</td>\n",
       "      <td>0</td>\n",
       "      <td>0</td>\n",
       "      <td>0</td>\n",
       "      <td>0</td>\n",
       "      <td>0</td>\n",
       "      <td>0</td>\n",
       "      <td>0</td>\n",
       "      <td>0</td>\n",
       "      <td>0</td>\n",
       "      <td>0</td>\n",
       "    </tr>\n",
       "    <tr>\n",
       "      <th>1</th>\n",
       "      <td>9</td>\n",
       "      <td>0</td>\n",
       "      <td>0</td>\n",
       "      <td>0</td>\n",
       "      <td>0</td>\n",
       "      <td>0</td>\n",
       "      <td>0</td>\n",
       "      <td>0</td>\n",
       "      <td>0</td>\n",
       "      <td>0</td>\n",
       "      <td>...</td>\n",
       "      <td>0</td>\n",
       "      <td>0</td>\n",
       "      <td>0</td>\n",
       "      <td>0</td>\n",
       "      <td>0</td>\n",
       "      <td>0</td>\n",
       "      <td>0</td>\n",
       "      <td>0</td>\n",
       "      <td>0</td>\n",
       "      <td>0</td>\n",
       "    </tr>\n",
       "    <tr>\n",
       "      <th>2</th>\n",
       "      <td>6</td>\n",
       "      <td>0</td>\n",
       "      <td>0</td>\n",
       "      <td>0</td>\n",
       "      <td>0</td>\n",
       "      <td>0</td>\n",
       "      <td>0</td>\n",
       "      <td>0</td>\n",
       "      <td>5</td>\n",
       "      <td>0</td>\n",
       "      <td>...</td>\n",
       "      <td>0</td>\n",
       "      <td>0</td>\n",
       "      <td>0</td>\n",
       "      <td>30</td>\n",
       "      <td>43</td>\n",
       "      <td>0</td>\n",
       "      <td>0</td>\n",
       "      <td>0</td>\n",
       "      <td>0</td>\n",
       "      <td>0</td>\n",
       "    </tr>\n",
       "    <tr>\n",
       "      <th>3</th>\n",
       "      <td>0</td>\n",
       "      <td>0</td>\n",
       "      <td>0</td>\n",
       "      <td>0</td>\n",
       "      <td>1</td>\n",
       "      <td>2</td>\n",
       "      <td>0</td>\n",
       "      <td>0</td>\n",
       "      <td>0</td>\n",
       "      <td>0</td>\n",
       "      <td>...</td>\n",
       "      <td>3</td>\n",
       "      <td>0</td>\n",
       "      <td>0</td>\n",
       "      <td>0</td>\n",
       "      <td>0</td>\n",
       "      <td>1</td>\n",
       "      <td>0</td>\n",
       "      <td>0</td>\n",
       "      <td>0</td>\n",
       "      <td>0</td>\n",
       "    </tr>\n",
       "    <tr>\n",
       "      <th>4</th>\n",
       "      <td>3</td>\n",
       "      <td>0</td>\n",
       "      <td>0</td>\n",
       "      <td>0</td>\n",
       "      <td>0</td>\n",
       "      <td>0</td>\n",
       "      <td>0</td>\n",
       "      <td>0</td>\n",
       "      <td>0</td>\n",
       "      <td>0</td>\n",
       "      <td>...</td>\n",
       "      <td>0</td>\n",
       "      <td>0</td>\n",
       "      <td>0</td>\n",
       "      <td>0</td>\n",
       "      <td>0</td>\n",
       "      <td>0</td>\n",
       "      <td>0</td>\n",
       "      <td>0</td>\n",
       "      <td>0</td>\n",
       "      <td>0</td>\n",
       "    </tr>\n",
       "  </tbody>\n",
       "</table>\n",
       "<p>5 rows × 785 columns</p>\n",
       "</div>"
      ],
      "text/plain": [
       "   label  pixel1  pixel2  pixel3  pixel4  pixel5  pixel6  pixel7  pixel8  \\\n",
       "0      2       0       0       0       0       0       0       0       0   \n",
       "1      9       0       0       0       0       0       0       0       0   \n",
       "2      6       0       0       0       0       0       0       0       5   \n",
       "3      0       0       0       0       1       2       0       0       0   \n",
       "4      3       0       0       0       0       0       0       0       0   \n",
       "\n",
       "   pixel9  ...  pixel775  pixel776  pixel777  pixel778  pixel779  pixel780  \\\n",
       "0       0  ...         0         0         0         0         0         0   \n",
       "1       0  ...         0         0         0         0         0         0   \n",
       "2       0  ...         0         0         0        30        43         0   \n",
       "3       0  ...         3         0         0         0         0         1   \n",
       "4       0  ...         0         0         0         0         0         0   \n",
       "\n",
       "   pixel781  pixel782  pixel783  pixel784  \n",
       "0         0         0         0         0  \n",
       "1         0         0         0         0  \n",
       "2         0         0         0         0  \n",
       "3         0         0         0         0  \n",
       "4         0         0         0         0  \n",
       "\n",
       "[5 rows x 785 columns]"
      ]
     },
     "execution_count": 2,
     "metadata": {},
     "output_type": "execute_result"
    }
   ],
   "source": [
    "traindf = pd.read_csv(\"F:\\Courses\\Complete Guide to TensorFlow for Deep Learning with Python\\Complete Guide to TensorFlow for Deep Learning with Python\\Tensorflow-Bootcamp-master\\My Other Notebooks\\Fashion_MNIST Dataset/fashion-mnist_train.csv\")\n",
    "testdf = pd.read_csv(\"F:\\Courses\\Complete Guide to TensorFlow for Deep Learning with Python\\Complete Guide to TensorFlow for Deep Learning with Python\\Tensorflow-Bootcamp-master\\My Other Notebooks\\Fashion_MNIST Dataset/fashion-mnist_test.csv\")\n",
    "traindf.head()"
   ]
  },
  {
   "cell_type": "code",
   "execution_count": 3,
   "metadata": {},
   "outputs": [
    {
     "name": "stdout",
     "output_type": "stream",
     "text": [
      "<class 'pandas.core.frame.DataFrame'>\n",
      "RangeIndex: 60000 entries, 0 to 59999\n",
      "Columns: 785 entries, label to pixel784\n",
      "dtypes: int64(785)\n",
      "memory usage: 359.3 MB\n",
      "None\n",
      "<class 'pandas.core.frame.DataFrame'>\n",
      "RangeIndex: 10000 entries, 0 to 9999\n",
      "Columns: 785 entries, label to pixel784\n",
      "dtypes: int64(785)\n",
      "memory usage: 59.9 MB\n",
      "None\n"
     ]
    }
   ],
   "source": [
    "print(traindf.info())\n",
    "print(testdf.info())"
   ]
  },
  {
   "cell_type": "code",
   "execution_count": 4,
   "metadata": {},
   "outputs": [
    {
     "data": {
      "text/plain": [
       "(60000, 785)"
      ]
     },
     "execution_count": 4,
     "metadata": {},
     "output_type": "execute_result"
    }
   ],
   "source": [
    "traindf.shape"
   ]
  },
  {
   "cell_type": "code",
   "execution_count": 5,
   "metadata": {},
   "outputs": [],
   "source": [
    "training = np.array(traindf,dtype='float64')\n",
    "testing = np.array(testdf,dtype='float64')"
   ]
  },
  {
   "cell_type": "code",
   "execution_count": 6,
   "metadata": {},
   "outputs": [
    {
     "data": {
      "text/plain": [
       "array([[  2.,   0.,   0.,   0.,   0.,   0.,   0.,   0.,   0.,   0.,   0.,\n",
       "          0.,   0.,   0.,   0.,   0.,   0.,   0.,   0.,   0.,   0.,   0.,\n",
       "          0.,   0.,   0.,   0.,   0.,   0.,   0.,   0.,   0.,   0.,   0.,\n",
       "          0.,   0.,   0.,   0.,   0.,   0.,   0.,   0.,   0.,   0.,   0.,\n",
       "          0.,   0.,   0.,   0.,   0.,   0.,   0.,   0.,   0.,   0.,   0.,\n",
       "          0.,   0.,   0.,   0.,   0.,   0.,   0.,   0.,   0.,   0.,   0.,\n",
       "          0.,   0.,   0.,   0.,   0.,   0.,   0.,   0.,   0.,   0.,   0.,\n",
       "          0.,   0.,   0.,   0.,   0.,   0.,   0.,   0.,   0.,   0.,   0.,\n",
       "          0.,   4.,   0.,   0.,   0.,   0.,   0.,  62.,  61.,  21.,  29.,\n",
       "         23.,  51., 136.,  61.,   0.,   0.,   0.,   0.,   0.,   0.,   0.,\n",
       "          0.,   0.,   0.,   0.,   0.,   0.,   0.,   0.,   0.,   0.,  88.,\n",
       "        201., 228., 225., 255., 115.,  62., 137., 255., 235., 222., 255.,\n",
       "        135.,   0.,   0.,   0.,   0.,   0.,   0.,   0.,   0.,   0.,   0.,\n",
       "          0.,   0.,   0.,  47., 252., 234., 238., 224., 215., 215., 229.,\n",
       "        108., 180., 207., 214., 224., 231., 249., 254.,  45.,   0.,   0.,\n",
       "          0.,   0.,   0.,   0.,   0.,   0.,   1.,   0.,   0., 214., 222.,\n",
       "        210., 213., 224., 225., 217., 220., 254., 233., 219., 221., 217.,\n",
       "        223., 221., 240., 254.,   0.,   0.,   1.,   0.,   0.,   0.,   1.,\n",
       "          0.,   0.,   0., 128., 237., 207., 224., 224., 207., 216., 214.,\n",
       "        210., 208., 211., 221., 208., 219., 213., 226., 211., 237., 150.,\n",
       "          0.,   0.,   0.,   0.,   0.,   0.,   2.,   0.,   0., 237., 222.,\n",
       "        215., 207., 210., 212., 213., 206., 214., 213., 214., 213., 210.,\n",
       "        215., 214., 206., 199., 218., 255.,  13.,   0.,   2.,   0.,   0.,\n",
       "          0.,   4.,   0.,  85., 228., 210., 218., 200., 211., 208., 203.,\n",
       "        215., 210., 209., 209., 210., 213., 211., 210., 217., 206., 213.,\n",
       "        231., 175.,   0.,   0.,   0.,   0.,   0.,   0.,   0., 217., 224.,\n",
       "        215., 206., 205., 204., 217., 230., 222., 215., 224., 233., 228.,\n",
       "        232., 228., 224., 207., 212., 215., 213., 229.,  31.,   0.,   4.,\n",
       "          0.,   1.,   0.,  21., 225., 212., 212., 203., 211., 225., 193.,\n",
       "        139., 136., 195., 147., 156., 139., 128., 162., 197., 223., 207.,\n",
       "        220., 213., 232., 177.,   0.,   0.,   0.,   0.,   0., 123., 226.,\n",
       "        207., 211., 209., 205., 228., 158.,  90., 103., 186., 138., 100.,\n",
       "        121., 147., 158., 183., 226., 208., 214., 209., 216., 255.,  13.,\n",
       "          0.,   1.,   0.,   0., 226., 219., 202., 208., 206., 205., 216.,\n",
       "        184., 156., 150., 193., 170., 164., 168., 188., 186., 200., 219.,\n",
       "        216., 213., 213., 211., 233., 148.,   0.,   0.,   0.,  45., 227.,\n",
       "        204., 214., 211., 218., 222., 221., 230., 229., 221., 213., 224.,\n",
       "        233., 226., 220., 219., 221., 224., 223., 217., 210., 218., 213.,\n",
       "        254.,   0.,   0.,   0., 157., 226., 203., 207., 211., 209., 215.,\n",
       "        205., 198., 207., 208., 201., 201., 197., 203., 205., 210., 207.,\n",
       "        213., 214., 214., 214., 213., 208., 234., 107.,   0.,   0., 235.,\n",
       "        213., 204., 211., 210., 209., 213., 202., 197., 204., 215., 217.,\n",
       "        213., 212., 210., 206., 212., 203., 211., 218., 215., 214., 208.,\n",
       "        209., 222., 230.,   0.,  52., 255., 207., 200., 208., 213., 210.,\n",
       "        210., 208., 207., 202., 201., 209., 216., 216., 216., 216., 214.,\n",
       "        212., 205., 215., 201., 228., 208., 214., 212., 218.,  25., 118.,\n",
       "        217., 201., 206., 208., 213., 208., 205., 206., 210., 211., 202.,\n",
       "        199., 207., 208., 209., 210., 207., 210., 210., 245., 139., 119.,\n",
       "        255., 202., 203., 236., 114., 171., 238., 212., 203., 220., 216.,\n",
       "        217., 209., 207., 205., 210., 211., 206., 204., 206., 209., 211.,\n",
       "        215., 210., 206., 221., 242.,   0., 224., 234., 230., 181.,  26.,\n",
       "         39., 145., 201., 255., 157., 115., 250., 200., 207., 206., 207.,\n",
       "        213., 216., 206., 205., 206., 207., 206., 215., 207., 221., 238.,\n",
       "          0.,   0., 188.,  85.,   0.,   0.,   0.,   0.,   0.,  31.,   0.,\n",
       "        129., 253., 190., 207., 208., 208., 208., 209., 211., 211., 209.,\n",
       "        209., 209., 212., 201., 226., 165.,   0.,   0.,   0.,   0.,   0.,\n",
       "          0.,   2.,   0.,   0.,   0.,   0.,  89., 254., 199., 199., 192.,\n",
       "        196., 198., 199., 201., 202., 203., 204., 203., 203., 200., 222.,\n",
       "        155.,   0.,   3.,   3.,   3.,   2.,   0.,   0.,   0.,   1.,   5.,\n",
       "          0.,   0., 255., 218., 226., 232., 228., 224., 222., 220., 219.,\n",
       "        219., 217., 221., 220., 212., 236.,  95.,   0.,   2.,   0.,   0.,\n",
       "          0.,   0.,   0.,   0.,   0.,   0.,   0.,   0., 155., 194., 168.,\n",
       "        170., 171., 173., 173., 179., 177., 175., 172., 171., 167., 161.,\n",
       "        180.,   0.,   0.,   1.,   0.,   1.,   0.,   0.,   0.,   0.,   0.,\n",
       "          0.,   0.,   0.,   0.,   0.,   0.,   0.,   0.,   0.,   0.,   0.,\n",
       "          0.,   0.,   0.,   0.,   0.,   0.,   0.,   0.,   0.,   0.,   0.,\n",
       "          0.,   0.,   0.,   0.,   0.,   0.,   0.,   0.,   0.,   0.,   0.,\n",
       "          0.,   0.,   0.,   0.,   0.,   0.,   0.,   0.,   0.,   0.,   0.,\n",
       "          0.,   0.,   0.,   0.,   0.,   0.,   0.,   0.,   0.,   0.,   0.,\n",
       "          0.,   0.,   0.,   0.,   0.,   0.,   0.,   0.,   0.,   0.,   0.,\n",
       "          0.,   0.,   0.,   0.,   0.,   0.,   0.,   0.,   0.,   0.,   0.,\n",
       "          0.]])"
      ]
     },
     "execution_count": 6,
     "metadata": {},
     "output_type": "execute_result"
    }
   ],
   "source": [
    "training[0:1,0:782]"
   ]
  },
  {
   "cell_type": "code",
   "execution_count": 7,
   "metadata": {},
   "outputs": [
    {
     "name": "stdout",
     "output_type": "stream",
     "text": [
      "[[2.]]\n",
      "2.0\n"
     ]
    },
    {
     "data": {
      "image/png": "[encoded data removed]",
      "text/plain": [
       "<Figure size 432x288 with 1 Axes>"
      ]
     },
     "metadata": {
      "needs_background": "light"
     },
     "output_type": "display_data"
    }
   ],
   "source": [
    "#Image at Index 0 \n",
    "#plt.imshow(training[0:1,1:785].reshape(28,28))\n",
    "plt.imshow(training[0:1,1:].reshape(28,28)) #Above and this is Both same\n",
    "\n",
    "label = training[0,0]\n",
    "print(training[0:1,0:1]) #Both way of getting same value\n",
    "print(label)"
   ]
  },
  {
   "cell_type": "code",
   "execution_count": 8,
   "metadata": {},
   "outputs": [
    {
     "name": "stdout",
     "output_type": "stream",
     "text": [
      "2.0\n",
      "7339\n"
     ]
    },
    {
     "data": {
      "image/png": "[encoded data removed]",
      "text/plain": [
       "<Figure size 432x288 with 1 Axes>"
      ]
     },
     "metadata": {
      "needs_background": "light"
     },
     "output_type": "display_data"
    }
   ],
   "source": [
    "#Now lets see different images by generating random numbers\n",
    "i=np.random.randint(1,60000)\n",
    "plt.imshow(training[i,1:].reshape(28,28)) #Above and this is Both same\n",
    "\n",
    "label = training[i,0]\n",
    "print(label)\n",
    "print(i)"
   ]
  },
  {
   "cell_type": "code",
   "execution_count": 47,
   "metadata": {},
   "outputs": [],
   "source": [
    "XData = training[:,1:].copy()\n",
    "HoldOutXData = testing[:,1:].copy()"
   ]
  },
  {
   "cell_type": "code",
   "execution_count": 11,
   "metadata": {},
   "outputs": [
    {
     "data": {
      "text/plain": [
       "(60000, 784)"
      ]
     },
     "execution_count": 11,
     "metadata": {},
     "output_type": "execute_result"
    }
   ],
   "source": [
    "XData.shape"
   ]
  },
  {
   "cell_type": "code",
   "execution_count": 48,
   "metadata": {},
   "outputs": [],
   "source": [
    "YData = training[:,0].copy()\n",
    "HoldOutYData = testing[:,0].copy()"
   ]
  },
  {
   "cell_type": "code",
   "execution_count": 13,
   "metadata": {},
   "outputs": [
    {
     "data": {
      "text/plain": [
       "(60000,)"
      ]
     },
     "execution_count": 13,
     "metadata": {},
     "output_type": "execute_result"
    }
   ],
   "source": [
    "YData.shape"
   ]
  },
  {
   "cell_type": "code",
   "execution_count": 49,
   "metadata": {},
   "outputs": [],
   "source": [
    "from sklearn.preprocessing import StandardScaler\n",
    "scaler = StandardScaler()\n",
    "XData = scaler.fit_transform(XData) #Could have use MinMax Scaler, try to see if any difference\n",
    "HoldOutXData = scaler.fit_transform(HoldOutXData)"
   ]
  },
  {
   "cell_type": "code",
   "execution_count": 15,
   "metadata": {},
   "outputs": [],
   "source": [
    "from sklearn.model_selection import train_test_split"
   ]
  },
  {
   "cell_type": "code",
   "execution_count": 16,
   "metadata": {},
   "outputs": [],
   "source": [
    " X_train, X_test, y_train, y_test = train_test_split(XData,YData, test_size=0.30, random_state=101)"
   ]
  },
  {
   "cell_type": "code",
   "execution_count": 17,
   "metadata": {},
   "outputs": [
    {
     "name": "stdout",
     "output_type": "stream",
     "text": [
      "8.0\n"
     ]
    },
    {
     "data": {
      "image/png": "[encoded data removed]",
      "text/plain": [
       "<Figure size 432x288 with 1 Axes>"
      ]
     },
     "metadata": {
      "needs_background": "light"
     },
     "output_type": "display_data"
    }
   ],
   "source": [
    "plt.imshow(X_train[1,:].reshape(28,28)) #Above and this is Both same\n",
    "print(y_train[1])"
   ]
  },
  {
   "cell_type": "markdown",
   "metadata": {},
   "source": [
    "# Just Checking Some Things for information"
   ]
  },
  {
   "cell_type": "code",
   "execution_count": 18,
   "metadata": {},
   "outputs": [
    {
     "data": {
      "text/plain": [
       "(42000,)"
      ]
     },
     "execution_count": 18,
     "metadata": {},
     "output_type": "execute_result"
    }
   ],
   "source": [
    "y_train.shape"
   ]
  },
  {
   "cell_type": "code",
   "execution_count": 19,
   "metadata": {},
   "outputs": [
    {
     "data": {
      "text/plain": [
       "(42000, 784)"
      ]
     },
     "execution_count": 19,
     "metadata": {},
     "output_type": "execute_result"
    }
   ],
   "source": [
    "X_train.shape"
   ]
  },
  {
   "cell_type": "code",
   "execution_count": 20,
   "metadata": {},
   "outputs": [
    {
     "data": {
      "text/plain": [
       "array([2., 9., 6., ..., 8., 8., 7.])"
      ]
     },
     "execution_count": 20,
     "metadata": {},
     "output_type": "execute_result"
    }
   ],
   "source": [
    "YData"
   ]
  },
  {
   "cell_type": "code",
   "execution_count": 21,
   "metadata": {},
   "outputs": [
    {
     "data": {
      "text/plain": [
       "(42000, 784)"
      ]
     },
     "execution_count": 21,
     "metadata": {},
     "output_type": "execute_result"
    }
   ],
   "source": [
    "X_train.shape"
   ]
  },
  {
   "cell_type": "code",
   "execution_count": 22,
   "metadata": {},
   "outputs": [
    {
     "data": {
      "text/plain": [
       "array([-9.50487946e-03, -2.26930300e-02, -2.89069199e-02, -4.15570894e-02,\n",
       "       -5.75746035e-02, -7.05032224e-02, -9.80836063e-02, -1.55981172e-01,\n",
       "        5.55507905e+00,  4.44801516e+00,  1.92890677e+00,  1.05010680e+00,\n",
       "        6.84166963e-01,  4.89146741e-01,  4.83019600e-01,  7.65883332e-01,\n",
       "        9.07109344e-01,  1.84497087e+00,  2.68085956e+00,  1.03033349e+00,\n",
       "       -2.02787726e-01, -1.38907066e-01, -1.09869470e-01, -9.26944615e-02,\n",
       "       -6.81346810e-02, -4.93230305e-02, -3.25083245e-02, -1.48789598e-02,\n",
       "       -1.16583707e-02, -1.74000966e-02, -3.39770021e-02, -5.47531662e-02,\n",
       "       -7.90749804e-02, -1.31720968e-01,  1.41964229e+00,  4.78649505e+00,\n",
       "        1.02081503e+00,  2.30371505e+00,  1.64307797e+00,  1.29024472e+00,\n",
       "        1.15809703e+00,  1.39945410e+00,  1.42657175e+00,  1.19834731e+00,\n",
       "        1.24644987e+00,  1.66527234e+00,  1.99957444e+00,  2.57484982e+00,\n",
       "        2.67388998e+00, -3.16636191e-01, -2.08012535e-01, -1.49669926e-01,\n",
       "       -1.18254633e-01, -8.89646454e-02, -5.77606914e-02, -2.91369033e-02,\n",
       "       -1.49726960e-02, -2.42760645e-02, -4.41450032e-02,  3.20366809e-02,\n",
       "       -1.29568316e-01,  9.80420170e-02,  4.07927911e+00,  2.64195976e+00,\n",
       "       -3.13638116e-01,  1.47314713e+00,  1.50967610e+00,  1.28831400e+00,\n",
       "        1.14603442e+00, -3.49130481e-01,  1.00786265e-01,  1.21966157e+00,\n",
       "        1.12674000e+00,  1.56002942e+00,  4.19751706e-01, -5.76471108e-01,\n",
       "        2.74728490e+00,  9.21677835e-01, -3.71452438e-01, -2.42119278e-01,\n",
       "       -1.71774663e-01, -1.30089535e-01, -8.81899085e-02, -5.12615855e-02,\n",
       "       -2.49929706e-02, -3.95579311e-02, -6.71503203e-02, -3.25049799e-02,\n",
       "       -2.15252377e-01,  2.70507070e+00,  2.39228843e+00,  2.01908006e+00,\n",
       "        2.22777753e+00,  1.72969324e+00,  1.33599268e+00,  1.47108799e+00,\n",
       "        1.44942694e+00,  2.13884002e-01,  5.47174396e-01,  1.56754418e+00,\n",
       "        1.59714611e+00,  1.60919243e+00,  1.45794319e+00,  1.74202087e+00,\n",
       "        2.00545768e+00,  2.68746300e+00, -4.86908075e-01, -3.49014169e-01,\n",
       "       -2.36222020e-01, -1.75067537e-01, -1.20197318e-01, -7.36560045e-02,\n",
       "       -3.79418800e-02, -6.21836441e-02, -9.17152810e-02, -1.49211590e-01,\n",
       "       -2.88858347e-01,  3.54887123e+00,  1.33007664e+00,  1.42638242e+00,\n",
       "        1.67197681e+00,  1.58215706e+00, -8.96003680e-01, -4.15286776e-01,\n",
       "        1.52683348e+00,  1.49483631e+00,  1.54667545e+00,  1.07845148e+00,\n",
       "       -1.09395892e+00,  3.61308253e-01,  1.55735891e+00,  1.67827980e+00,\n",
       "        1.29870368e+00,  1.83208461e+00,  3.91303002e-02, -4.42232645e-01,\n",
       "       -2.46591973e-01, -2.29235264e-01, -1.62452695e-01, -9.81946678e-02,\n",
       "       -5.21713847e-02, -8.53080839e-02, -1.23038834e-01, -1.99412616e-01,\n",
       "       -3.48203370e-01,  1.23618935e+00,  2.09249900e+00,  1.84615652e+00,\n",
       "        1.83887783e+00,  1.60744787e+00,  1.27321198e+00,  1.24453828e+00,\n",
       "        1.60652817e+00,  1.60818133e+00,  1.55052503e+00,  1.27663531e+00,\n",
       "        7.25556958e-01,  1.16572149e+00,  1.52448965e+00,  1.65879831e+00,\n",
       "        1.18644858e+00,  1.67001198e+00,  1.48162932e-01, -5.33259761e-01,\n",
       "       -3.37658690e-01, -2.96307794e-01, -2.14206295e-01, -1.24141119e-01,\n",
       "       -6.77901581e-02, -1.07447494e-01, -1.54327769e-01, -2.44870549e-01,\n",
       "       -3.99584050e-01,  2.13691505e+00,  2.02665301e+00,  1.61139805e+00,\n",
       "        3.05488022e-01,  1.08114422e+00,  1.41303393e+00,  1.49796566e+00,\n",
       "        1.07989919e+00, -1.17391577e+00,  1.37787266e-01,  1.42221896e+00,\n",
       "        1.36316337e+00,  1.51994545e+00,  8.46125080e-01,  1.10685321e+00,\n",
       "        1.55233808e+00,  1.50743230e+00, -3.14681567e-01, -6.16870402e-01,\n",
       "       -4.60722021e-01, -3.62796834e-01, -2.59728603e-01, -1.46475699e-01,\n",
       "       -8.48244840e-02, -1.29724427e-01, -1.84376511e-01, -2.84867582e-01,\n",
       "       -3.13269387e-01,  2.57518532e+00,  2.91866880e-01,  1.93882056e+00,\n",
       "        9.37060492e-02,  8.98192310e-01,  1.57590188e+00,  1.51716086e+00,\n",
       "        1.21819058e+00, -7.47167284e-01,  3.60247063e-01,  1.42419193e+00,\n",
       "        1.16922734e+00,  1.45284017e+00, -1.52872633e-01,  7.50400241e-01,\n",
       "        1.37216655e+00,  1.61944838e+00,  5.97889216e-01, -6.94055300e-01,\n",
       "       -5.01824596e-01, -4.26138522e-01, -3.02180477e-01, -1.64074674e-01,\n",
       "       -9.68539350e-02, -1.50422388e-01, -2.12199922e-01, -3.16445797e-01,\n",
       "       -3.42728925e-03,  2.43577105e+00,  4.58625153e-01,  1.83664370e+00,\n",
       "        1.76614967e+00,  1.60877992e+00,  1.21142925e+00,  1.24463362e+00,\n",
       "        1.50322556e+00,  1.59024598e+00,  1.58365703e+00,  1.36332919e+00,\n",
       "        1.13574828e+00,  1.41031638e+00,  1.22467538e+00,  1.55343197e+00,\n",
       "        4.81080500e-01,  8.86751875e-01,  1.05119893e+00, -7.70153551e-01,\n",
       "       -5.96996130e-01, -4.90636593e-01, -3.46922405e-01, -1.87149416e-01,\n",
       "       -1.06800391e-01, -1.66763179e-01, -2.29482742e-01, -3.36632696e-01,\n",
       "       -7.16076408e-02,  1.42348794e+00,  1.81317761e+00,  9.33920535e-01,\n",
       "        1.01556739e+00,  1.71423713e+00, -1.18074403e+00, -9.59177871e-01,\n",
       "        1.57851964e+00,  9.61092740e-01,  1.52104120e+00, -2.56304717e-01,\n",
       "       -1.91123444e+00,  1.08273069e+00,  1.33843472e+00,  1.22037565e+00,\n",
       "        1.20431456e+00,  1.30570164e+00,  5.85336935e-01, -8.34752083e-01,\n",
       "       -6.63858551e-01, -5.60691203e-01, -3.97178686e-01, -2.14118552e-01,\n",
       "       -1.16869855e-01, -1.79907463e-01, -2.37769235e-01, -3.41364792e-01,\n",
       "        6.45179457e-01,  1.72801926e+00,  1.82117842e+00,  7.74868278e-01,\n",
       "       -3.46924517e-01,  1.71808983e+00,  7.48978023e-01,  8.72737133e-01,\n",
       "        1.45205649e+00,  1.49605696e+00,  1.47580177e+00,  6.89496866e-01,\n",
       "       -1.26010037e-01,  1.45482554e+00,  4.18969512e-01, -5.23035819e-01,\n",
       "        1.19319937e+00,  1.39288262e+00,  7.83384159e-02, -8.90896921e-01,\n",
       "       -7.17955365e-01, -6.19431036e-01, -4.53933201e-01, -2.42020427e-01,\n",
       "       -1.29736415e-01, -1.92217682e-01, -2.40998864e-01, -3.35314875e-01,\n",
       "        1.18121839e+00,  1.86681580e+00,  2.72973101e-01,  1.68878395e+00,\n",
       "        8.20900149e-02,  1.69466449e+00,  1.41684241e+00,  1.43482247e+00,\n",
       "        1.13201713e+00,  1.92985429e-01,  1.04806492e+00,  1.35391244e+00,\n",
       "        1.42194356e+00,  1.34037093e+00,  1.19127982e+00, -6.08983431e-01,\n",
       "        1.42893156e+00,  1.08129839e+00,  1.37524706e+00, -9.37411207e-01,\n",
       "       -7.53170508e-01, -6.53423787e-01, -5.06924686e-01, -2.70921672e-01,\n",
       "       -1.45005101e-01, -2.04315254e-01, -2.48504250e-01, -3.38881450e-01,\n",
       "        1.56584620e+00,  1.95492518e+00,  1.25307082e+00,  1.32844769e+00,\n",
       "       -1.03805556e+00,  9.24848237e-01,  1.14236975e+00,  1.22200469e+00,\n",
       "        6.08795426e-01, -1.77867749e+00,  3.19774792e-01,  1.18356783e+00,\n",
       "        9.65680458e-01,  7.26871033e-01, -9.60720131e-01, -6.82141408e-01,\n",
       "        1.09216106e+00,  4.20923962e-01,  1.57214972e+00, -9.77523263e-01,\n",
       "       -7.75633202e-01, -6.69596457e-01, -5.43623551e-01, -3.03816108e-01,\n",
       "       -1.53925176e-01, -2.19525314e-01, -2.66090621e-01, -3.60879909e-01,\n",
       "        6.91532496e-01,  1.32678326e+00,  1.95325751e+00, -1.25370330e-01,\n",
       "        1.90297822e-01,  1.57665802e+00,  1.47304078e+00,  1.48293459e+00,\n",
       "        1.23151805e+00,  1.04464879e+00,  1.29018874e+00,  1.39664932e+00,\n",
       "        1.39083261e+00,  1.15504528e+00,  6.61780757e-01, -1.64436847e+00,\n",
       "        1.18366032e+00,  1.25883010e+00,  9.58356261e-01, -9.98037667e-01,\n",
       "       -7.87594488e-01, -6.76746149e-01, -5.69763226e-01, -3.35264644e-01,\n",
       "       -1.82213615e-01, -2.72859028e-01, -3.26139010e-01, -4.26323249e-01,\n",
       "        1.99003564e+00,  1.67941257e+00,  1.84708437e+00,  7.21783864e-02,\n",
       "        1.44081123e+00,  1.52464911e+00, -6.13706891e-01, -2.81426732e-01,\n",
       "        1.32176065e+00,  1.13555958e+00,  1.37978759e+00, -9.74298266e-02,\n",
       "       -3.66207359e-01,  1.28441891e+00,  1.39271506e+00, -1.65289437e+00,\n",
       "        6.73393257e-01,  1.37216433e+00,  8.33017999e-01, -9.79209908e-01,\n",
       "       -8.02607281e-01, -6.86129060e-01, -5.95057822e-01, -3.65198096e-01,\n",
       "       -2.50627555e-01, -3.53905588e-01, -4.00338852e-01, -4.95586170e-01,\n",
       "        2.51526023e+00,  1.24055256e+00,  4.40072699e-01,  2.76943027e-01,\n",
       "        1.30456825e+00,  1.36165538e+00, -1.59342366e+00, -7.69178870e-01,\n",
       "        1.42332097e+00,  8.68573508e-01,  1.45140530e+00, -1.46454588e+00,\n",
       "       -1.85822392e+00,  1.27866443e+00,  1.38047894e+00, -9.93357885e-01,\n",
       "        9.77953452e-01,  5.90755225e-01,  1.43266636e+00, -4.17840723e-01,\n",
       "       -8.26051006e-01, -7.00494033e-01, -6.17578770e-01, -3.91404697e-01,\n",
       "       -3.09915385e-01, -4.02656264e-01, -4.48183284e-01, -5.47678748e-01,\n",
       "        1.32467937e+00,  1.46384223e+00,  1.51426321e+00, -1.01144718e-01,\n",
       "        1.63655326e+00,  1.25500052e+00,  1.43759814e+00,  1.35482656e+00,\n",
       "        1.38609238e+00,  1.43116031e+00,  1.33457612e+00,  1.31568986e+00,\n",
       "        1.32431128e+00,  1.20960115e+00,  1.38329755e+00, -4.80181480e-01,\n",
       "        4.77784492e-01,  8.78612250e-01,  1.31117471e+00,  4.67161659e-02,\n",
       "       -8.43787124e-01, -7.10483652e-01, -6.27201784e-01, -4.10322482e-01,\n",
       "       -3.22768441e-01, -4.34419228e-01, -4.88452136e-01, -3.13291331e-01,\n",
       "        1.00373659e+00,  1.56254477e+00,  1.23909811e+00, -5.22710776e-01,\n",
       "       -4.11757649e-01,  8.55143085e-01,  9.73268495e-01,  1.26094726e+00,\n",
       "       -1.64147889e-01, -1.96608207e+00,  9.05214301e-01,  1.11042837e+00,\n",
       "        1.10194093e+00,  5.35868975e-01, -5.13063313e-01, -8.09093226e-02,\n",
       "       -6.04859096e-01,  1.49666658e+00,  8.10644832e-01, -3.66545055e-01,\n",
       "       -8.31522610e-01, -6.91819672e-01, -6.09440933e-01, -4.08253009e-01,\n",
       "       -2.94153377e-01, -4.31838633e-01, -5.03696622e-01, -1.98936075e-01,\n",
       "        2.26185554e+00,  1.27952113e+00,  5.92035530e-02, -2.99550269e-01,\n",
       "        2.13866449e-02,  1.21551487e+00,  1.32541775e+00,  1.42484865e+00,\n",
       "        4.55997696e-01, -5.96318634e-01,  1.14953998e+00,  1.25903583e+00,\n",
       "        1.29055854e+00,  7.26147702e-01, -8.41266624e-01,  7.90400670e-01,\n",
       "       -3.83753086e-01,  1.44353163e+00,  1.37044118e+00,  8.14340178e-01,\n",
       "       -8.13066096e-01, -6.69513816e-01, -5.85752479e-01, -3.97682491e-01,\n",
       "       -2.74090326e-01, -4.01657663e-01, -4.76382252e-01,  3.57766232e-01,\n",
       "        2.26482939e+00,  1.50681965e+00, -2.82640433e-01,  9.29989765e-01,\n",
       "        1.60840108e+00,  1.20077920e+00,  3.94604318e-01,  8.41257773e-01,\n",
       "        1.37273781e+00,  1.43349309e+00,  1.35690987e+00,  7.86184627e-01,\n",
       "        9.82657968e-01,  1.34949583e+00,  1.41916084e+00,  1.51211661e+00,\n",
       "       -7.49752075e-01,  6.07356039e-01,  1.43873720e+00,  1.28116886e+00,\n",
       "       -7.87762186e-01, -6.39642881e-01, -5.45319917e-01, -3.58454708e-01,\n",
       "       -2.62613483e-01, -3.81086661e-01, -4.51138657e-01,  4.43036442e-01,\n",
       "        5.24551071e-01,  1.89404819e+00, -4.67174720e-01,  8.54101532e-01,\n",
       "        1.60896239e+00,  6.76310575e-01, -1.83534483e+00,  1.28161998e-01,\n",
       "        1.25635735e+00,  9.46078155e-01,  1.40080733e+00, -1.71135793e+00,\n",
       "       -1.13730341e+00,  1.39001274e+00,  1.06397932e+00,  1.45422637e+00,\n",
       "       -1.07677794e+00,  1.72569163e+00,  1.17920810e+00,  7.72440985e-01,\n",
       "       -7.33564877e-01, -5.81456241e-01, -4.78177878e-01, -3.05411773e-01,\n",
       "       -2.46972839e-01, -3.53202505e-01, -4.22550603e-01,  8.95322849e-01,\n",
       "        2.28977728e+00,  1.87970569e+00, -8.89283476e-01,  1.45516703e+00,\n",
       "        1.44721125e+00,  1.17267322e+00,  1.08337456e+00,  1.15558880e+00,\n",
       "        1.10132514e+00,  1.11211503e+00,  1.31183630e+00,  9.29369427e-01,\n",
       "        9.80005760e-01,  1.24420684e+00,  1.19153980e+00,  1.60778657e+00,\n",
       "       -8.22826539e-01,  1.35349545e+00,  1.55332620e+00,  1.47657954e+00,\n",
       "       -6.72098934e-01, -5.22459415e-01, -4.23868858e-01, -2.71299555e-01,\n",
       "       -2.18919007e-01, -3.11046452e-01, -3.78901227e-01,  1.64808373e+00,\n",
       "        2.44931871e+00,  7.72787189e-01, -6.38152078e-01,  1.83606433e+00,\n",
       "        1.27690694e+00,  1.12018269e+00,  1.11149576e+00,  1.01949977e+00,\n",
       "        1.00914033e+00,  1.10969608e+00,  1.14548314e+00,  1.22691975e+00,\n",
       "        1.12998869e+00,  1.12269868e+00,  1.16023416e+00,  1.67655846e+00,\n",
       "        1.58501513e-01, -1.52132792e-01,  1.46081008e+00,  2.16135238e+00,\n",
       "       -6.17183234e-01, -4.67396432e-01, -3.71061733e-01, -2.31428937e-01,\n",
       "       -1.83421740e-01, -2.63006509e-01, -3.33680439e-01,  9.30517428e-01,\n",
       "        1.85055463e+00,  2.08168537e+00, -6.95480429e-01,  2.07397946e+00,\n",
       "        1.52938948e+00,  1.32965268e+00,  1.22405168e+00,  1.15770070e+00,\n",
       "        1.12555989e+00,  1.20696573e+00,  1.30708607e+00,  1.26258117e+00,\n",
       "        1.20770463e+00,  1.26303479e+00,  1.35414232e+00,  1.74898214e+00,\n",
       "        8.51070706e-01, -3.32544281e-02,  1.74158604e+00,  1.40873443e+00,\n",
       "       -3.10277228e-01, -4.07916229e-01, -3.12902041e-01, -1.89254201e-01,\n",
       "       -1.40225799e-01, -2.11756177e-01, -2.83310939e-01,  1.60839470e+00,\n",
       "        2.26211187e+00,  1.86145231e+00, -7.23520270e-01,  4.33411148e-01,\n",
       "        1.13395726e+00,  1.37282300e+00,  1.41209266e+00,  1.45783760e+00,\n",
       "        1.47030420e+00,  1.56876366e+00,  1.65183859e+00,  1.60366866e+00,\n",
       "        1.53555066e+00,  1.41315888e+00,  1.39601728e+00,  1.30335292e+00,\n",
       "       -3.70662353e-01,  3.33516951e-01,  2.00050039e+00,  1.65251794e+00,\n",
       "        5.84335280e-01, -3.55676473e-01, -2.62054968e-01, -1.52116264e-01,\n",
       "       -1.01623991e-01, -1.62037938e-01, -2.34476588e-01,  3.13525945e+00,\n",
       "        3.06703560e+00,  1.98276014e+00, -6.63684285e-01, -6.78273513e-01,\n",
       "       -8.08474631e-01, -9.41640859e-01, -1.05340006e+00, -1.11394846e+00,\n",
       "       -1.09843340e+00, -1.00599757e+00, -9.27396437e-01, -9.74838918e-01,\n",
       "       -1.02666393e+00, -1.01269594e+00, -9.37310558e-01, -8.16396451e-01,\n",
       "       -6.83590242e-01, -2.65883478e-01,  2.19681853e+00,  2.69885842e+00,\n",
       "        2.05767299e+00, -2.98831689e-01, -2.10616478e-01, -1.13169223e-01,\n",
       "       -5.76970452e-02, -1.05587903e-01, -1.77887782e-01,  1.32160100e+00,\n",
       "        2.60897068e+00,  1.57333301e+00, -5.94163007e-01, -5.88254597e-01,\n",
       "       -6.79529152e-01, -8.10219798e-01, -9.16223335e-01, -9.73342644e-01,\n",
       "       -9.60209487e-01, -8.82013253e-01, -8.15352859e-01, -8.61120614e-01,\n",
       "       -9.16352780e-01, -9.07678307e-01, -8.32770175e-01, -6.81834109e-01,\n",
       "       -5.83333498e-01, -4.93310131e-01,  2.27405744e+00,  1.57309431e+00,\n",
       "        1.15558453e+00, -2.44625385e-01, -1.58514120e-01, -7.74593718e-02,\n",
       "       -2.54354118e-02, -4.90715856e-02, -1.02418388e-01, -2.08110740e-01,\n",
       "       -3.40411162e-01, -4.26259728e-01, -4.36702703e-01, -4.06715425e-01,\n",
       "       -4.58428637e-01, -5.56620341e-01, -6.73685206e-01, -7.39147063e-01,\n",
       "       -7.39803283e-01, -6.59193092e-01, -6.12870197e-01, -6.63945898e-01,\n",
       "       -7.15550912e-01, -7.04209742e-01, -6.01712448e-01, -4.76945053e-01,\n",
       "       -3.95153853e-01, -4.06440641e-01, -4.40185164e-01, -3.96719276e-01,\n",
       "       -2.87717204e-01, -1.58258310e-01, -9.14318108e-02, -3.30455685e-02])"
      ]
     },
     "execution_count": 22,
     "metadata": {},
     "output_type": "execute_result"
    }
   ],
   "source": [
    "X_train[0]"
   ]
  },
  {
   "cell_type": "code",
   "execution_count": 51,
   "metadata": {},
   "outputs": [
    {
     "name": "stdout",
     "output_type": "stream",
     "text": [
      "(42000, 28, 28, 1)\n",
      "(28, 28, 1)\n"
     ]
    }
   ],
   "source": [
    "#Now Works Starts\n",
    "#For reshaping first argument was number of rows, we need and \n",
    "#second argument is dimension of the picture\n",
    "X_train=X_train.reshape(X_train.shape[0],*(28,28,1))\n",
    "HoldOutXData=HoldOutXData.reshape(HoldOutXData.shape[0],*(28,28,1))\n",
    "print(X_train.shape)\n",
    "print(X_train[1700].shape)"
   ]
  },
  {
   "cell_type": "code",
   "execution_count": 24,
   "metadata": {},
   "outputs": [
    {
     "name": "stdout",
     "output_type": "stream",
     "text": [
      "(18000, 28, 28, 1)\n"
     ]
    },
    {
     "data": {
      "text/plain": [
       "(28, 28, 1)"
      ]
     },
     "execution_count": 24,
     "metadata": {},
     "output_type": "execute_result"
    }
   ],
   "source": [
    "X_test= X_test.reshape(X_test.shape[0],*(28,28,1)) \n",
    "print(X_test.shape)\n",
    "X_test[0].shape"
   ]
  },
  {
   "cell_type": "markdown",
   "metadata": {},
   "source": [
    "# Now Lets make CNN Model"
   ]
  },
  {
   "cell_type": "code",
   "execution_count": 25,
   "metadata": {},
   "outputs": [
    {
     "name": "stderr",
     "output_type": "stream",
     "text": [
      "Using TensorFlow backend.\n"
     ]
    }
   ],
   "source": [
    " import keras"
   ]
  },
  {
   "cell_type": "code",
   "execution_count": 26,
   "metadata": {},
   "outputs": [],
   "source": [
    "from keras.models import Sequential\n",
    "from keras.layers import Conv2D , MaxPooling2D , Dense , Flatten , Dropout\n",
    "from keras.optimizers import Adam\n",
    "#Callback is used to stop within epoch, get value of weights etc. \n",
    "from keras.callbacks import TensorBoard"
   ]
  },
  {
   "cell_type": "code",
   "execution_count": 27,
   "metadata": {},
   "outputs": [
    {
     "name": "stdout",
     "output_type": "stream",
     "text": [
      "WARNING:tensorflow:From C:\\Users\\Cheema\\.conda\\envs\\tfdeeplearning1\\lib\\site-packages\\keras\\backend\\tensorflow_backend.py:74: The name tf.get_default_graph is deprecated. Please use tf.compat.v1.get_default_graph instead.\n",
      "\n"
     ]
    }
   ],
   "source": [
    "Cnn_Model = Sequential()"
   ]
  },
  {
   "cell_type": "code",
   "execution_count": 28,
   "metadata": {},
   "outputs": [
    {
     "name": "stdout",
     "output_type": "stream",
     "text": [
      "WARNING:tensorflow:From C:\\Users\\Cheema\\.conda\\envs\\tfdeeplearning1\\lib\\site-packages\\keras\\backend\\tensorflow_backend.py:517: The name tf.placeholder is deprecated. Please use tf.compat.v1.placeholder instead.\n",
      "\n",
      "WARNING:tensorflow:From C:\\Users\\Cheema\\.conda\\envs\\tfdeeplearning1\\lib\\site-packages\\keras\\backend\\tensorflow_backend.py:4138: The name tf.random_uniform is deprecated. Please use tf.random.uniform instead.\n",
      "\n"
     ]
    }
   ],
   "source": [
    "Conv_layer = Conv2D(filters=32,kernel_size=(3,3),strides=1,activation=\"relu\",input_shape=(28,28,1))\n",
    "Cnn_Model.add(Conv_layer)"
   ]
  },
  {
   "cell_type": "code",
   "execution_count": 29,
   "metadata": {},
   "outputs": [
    {
     "name": "stdout",
     "output_type": "stream",
     "text": [
      "WARNING:tensorflow:From C:\\Users\\Cheema\\.conda\\envs\\tfdeeplearning1\\lib\\site-packages\\keras\\backend\\tensorflow_backend.py:3976: The name tf.nn.max_pool is deprecated. Please use tf.nn.max_pool2d instead.\n",
      "\n"
     ]
    }
   ],
   "source": [
    "First_Pooling_Layer = MaxPooling2D(pool_size=(2,2),strides=None)\n",
    "Cnn_Model.add(First_Pooling_Layer)"
   ]
  },
  {
   "cell_type": "code",
   "execution_count": 30,
   "metadata": {},
   "outputs": [],
   "source": [
    "Cnn_Model.add(Flatten())  "
   ]
  },
  {
   "cell_type": "code",
   "execution_count": 31,
   "metadata": {},
   "outputs": [],
   "source": [
    "#Now add Neural Network Hidden Layers After working with images"
   ]
  },
  {
   "cell_type": "code",
   "execution_count": 32,
   "metadata": {},
   "outputs": [],
   "source": [
    "Hidden_Layer1 = Dense(units=32,activation='relu')\n",
    "Cnn_Model.add(Hidden_Layer1)"
   ]
  },
  {
   "cell_type": "code",
   "execution_count": 33,
   "metadata": {},
   "outputs": [],
   "source": [
    "Output_Layer = Dense(units=10,activation='softmax') #Units are 10 because 10 Classes to categorize\n",
    "#Output_Layer = Dense(units=10,activation='sigmoid') Ask someone why with also this everything well, with acc around 91\n",
    "Cnn_Model.add(Output_Layer)"
   ]
  },
  {
   "cell_type": "code",
   "execution_count": 34,
   "metadata": {},
   "outputs": [
    {
     "name": "stdout",
     "output_type": "stream",
     "text": [
      "WARNING:tensorflow:From C:\\Users\\Cheema\\.conda\\envs\\tfdeeplearning1\\lib\\site-packages\\keras\\optimizers.py:790: The name tf.train.Optimizer is deprecated. Please use tf.compat.v1.train.Optimizer instead.\n",
      "\n",
      "WARNING:tensorflow:From C:\\Users\\Cheema\\.conda\\envs\\tfdeeplearning1\\lib\\site-packages\\keras\\backend\\tensorflow_backend.py:3341: The name tf.log is deprecated. Please use tf.math.log instead.\n",
      "\n"
     ]
    }
   ],
   "source": [
    "myoptimizer = Adam(lr=0.001)\n",
    "mylossFunction = 'sparse_categorical_crossentropy'\n",
    "Cnn_Model.compile(optimizer=myoptimizer,loss=mylossFunction,metrics=['accuracy'])"
   ]
  },
  {
   "cell_type": "code",
   "execution_count": 35,
   "metadata": {},
   "outputs": [],
   "source": [
    "myepochs = 5"
   ]
  },
  {
   "cell_type": "code",
   "execution_count": 36,
   "metadata": {},
   "outputs": [
    {
     "name": "stdout",
     "output_type": "stream",
     "text": [
      "WARNING:tensorflow:From C:\\Users\\Cheema\\.conda\\envs\\tfdeeplearning1\\lib\\site-packages\\tensorflow_core\\python\\ops\\math_grad.py:1424: where (from tensorflow.python.ops.array_ops) is deprecated and will be removed in a future version.\n",
      "Instructions for updating:\n",
      "Use tf.where in 2.0, which has the same broadcast rule as np.where\n",
      "WARNING:tensorflow:From C:\\Users\\Cheema\\.conda\\envs\\tfdeeplearning1\\lib\\site-packages\\keras\\backend\\tensorflow_backend.py:986: The name tf.assign_add is deprecated. Please use tf.compat.v1.assign_add instead.\n",
      "\n",
      "WARNING:tensorflow:From C:\\Users\\Cheema\\.conda\\envs\\tfdeeplearning1\\lib\\site-packages\\keras\\backend\\tensorflow_backend.py:973: The name tf.assign is deprecated. Please use tf.compat.v1.assign instead.\n",
      "\n",
      "WARNING:tensorflow:From C:\\Users\\Cheema\\.conda\\envs\\tfdeeplearning1\\lib\\site-packages\\keras\\backend\\tensorflow_backend.py:2741: The name tf.Session is deprecated. Please use tf.compat.v1.Session instead.\n",
      "\n",
      "Epoch 1/5\n",
      "WARNING:tensorflow:From C:\\Users\\Cheema\\.conda\\envs\\tfdeeplearning1\\lib\\site-packages\\keras\\backend\\tensorflow_backend.py:174: The name tf.get_default_session is deprecated. Please use tf.compat.v1.get_default_session instead.\n",
      "\n",
      "WARNING:tensorflow:From C:\\Users\\Cheema\\.conda\\envs\\tfdeeplearning1\\lib\\site-packages\\keras\\backend\\tensorflow_backend.py:181: The name tf.ConfigProto is deprecated. Please use tf.compat.v1.ConfigProto instead.\n",
      "\n",
      "WARNING:tensorflow:From C:\\Users\\Cheema\\.conda\\envs\\tfdeeplearning1\\lib\\site-packages\\keras\\backend\\tensorflow_backend.py:190: The name tf.global_variables is deprecated. Please use tf.compat.v1.global_variables instead.\n",
      "\n",
      "WARNING:tensorflow:From C:\\Users\\Cheema\\.conda\\envs\\tfdeeplearning1\\lib\\site-packages\\keras\\backend\\tensorflow_backend.py:199: The name tf.is_variable_initialized is deprecated. Please use tf.compat.v1.is_variable_initialized instead.\n",
      "\n",
      "WARNING:tensorflow:From C:\\Users\\Cheema\\.conda\\envs\\tfdeeplearning1\\lib\\site-packages\\keras\\backend\\tensorflow_backend.py:206: The name tf.variables_initializer is deprecated. Please use tf.compat.v1.variables_initializer instead.\n",
      "\n",
      "42000/42000 [==============================] - 8s 182us/step - loss: 0.7985 - acc: 0.7310\n",
      "Epoch 2/5\n",
      "42000/42000 [==============================] - 7s 174us/step - loss: 0.4299 - acc: 0.8484\n",
      "Epoch 3/5\n",
      "42000/42000 [==============================] - 7s 166us/step - loss: 0.3671 - acc: 0.8728\n",
      "Epoch 4/5\n",
      "42000/42000 [==============================] - 7s 166us/step - loss: 0.3299 - acc: 0.8847\n",
      "Epoch 5/5\n",
      "42000/42000 [==============================] - 8s 185us/step - loss: 0.3108 - acc: 0.8891\n"
     ]
    },
    {
     "data": {
      "text/plain": [
       "<keras.callbacks.History at 0x2b729f82a48>"
      ]
     },
     "execution_count": 36,
     "metadata": {},
     "output_type": "execute_result"
    }
   ],
   "source": [
    "#Cnn_Model.fit(x=X_train,y=y_train,batch_size=1000,epochs=myepochs,verbose=1,validation_data=(X_test,y_test))\n",
    "#Cnn_Model.fit(x=X_train,y=y_train,batch_size=1000,epochs=myepochs,verbose=1,validation_split=0.2)\n",
    "Cnn_Model.fit(x=X_train,y=y_train,batch_size=1000,epochs=myepochs,verbose=1)"
   ]
  },
  {
   "cell_type": "code",
   "execution_count": 37,
   "metadata": {},
   "outputs": [
    {
     "name": "stdout",
     "output_type": "stream",
     "text": [
      "Epoch 1/5\n",
      "42000/42000 [==============================] - 7s 166us/step - loss: 0.2912 - acc: 0.8969\n",
      "Epoch 2/5\n",
      "42000/42000 [==============================] - 7s 166us/step - loss: 0.2799 - acc: 0.9014\n",
      "Epoch 3/5\n",
      "42000/42000 [==============================] - 7s 167us/step - loss: 0.2640 - acc: 0.9069\n",
      "Epoch 4/5\n",
      "42000/42000 [==============================] - 7s 177us/step - loss: 0.2527 - acc: 0.9098\n",
      "Epoch 5/5\n",
      "42000/42000 [==============================] - 8s 184us/step - loss: 0.2440 - acc: 0.9132\n"
     ]
    },
    {
     "data": {
      "text/plain": [
       "<keras.callbacks.History at 0x2b729e99bc8>"
      ]
     },
     "execution_count": 37,
     "metadata": {},
     "output_type": "execute_result"
    }
   ],
   "source": [
    "#Let see if model continue learning from where it left\n",
    "#Answer to that is Yes, it starts from where it left\n",
    "Cnn_Model.fit(x=X_train,y=y_train,batch_size=1000,epochs=myepochs,verbose=1)"
   ]
  },
  {
   "cell_type": "code",
   "execution_count": 39,
   "metadata": {},
   "outputs": [
    {
     "name": "stdout",
     "output_type": "stream",
     "text": [
      "18000/18000 [==============================] - 1s 76us/step\n"
     ]
    }
   ],
   "source": [
    "evaluation = Cnn_Model.evaluate(X_test,y_test)"
   ]
  },
  {
   "cell_type": "code",
   "execution_count": 40,
   "metadata": {},
   "outputs": [
    {
     "data": {
      "text/plain": [
       "[0.29633302429649566, 0.8969444444444444]"
      ]
     },
     "execution_count": 40,
     "metadata": {},
     "output_type": "execute_result"
    }
   ],
   "source": [
    "evaluation"
   ]
  },
  {
   "cell_type": "code",
   "execution_count": 41,
   "metadata": {},
   "outputs": [
    {
     "name": "stdout",
     "output_type": "stream",
     "text": [
      "Test Accuracy =  0.8969444444444444\n"
     ]
    }
   ],
   "source": [
    "print('Test Accuracy = ', evaluation[1])"
   ]
  },
  {
   "cell_type": "code",
   "execution_count": 42,
   "metadata": {},
   "outputs": [],
   "source": [
    "predict_class = Cnn_Model.predict_classes(X_test)"
   ]
  },
  {
   "cell_type": "code",
   "execution_count": 43,
   "metadata": {},
   "outputs": [
    {
     "data": {
      "text/plain": [
       "array([7, 5, 3, ..., 4, 1, 8], dtype=int64)"
      ]
     },
     "execution_count": 43,
     "metadata": {},
     "output_type": "execute_result"
    }
   ],
   "source": [
    "predict_class"
   ]
  },
  {
   "cell_type": "code",
   "execution_count": 44,
   "metadata": {},
   "outputs": [
    {
     "data": {
      "text/plain": [
       "(18000,)"
      ]
     },
     "execution_count": 44,
     "metadata": {},
     "output_type": "execute_result"
    }
   ],
   "source": [
    "predict_class.shape"
   ]
  },
  {
   "cell_type": "code",
   "execution_count": 45,
   "metadata": {},
   "outputs": [
    {
     "name": "stdout",
     "output_type": "stream",
     "text": [
      "[[1532    2   16   35    4    2  202    0    9    0]\n",
      " [   4 1718    3   33    3    0    6    0    3    0]\n",
      " [  38    0 1407   11  126    3  199    0    3    0]\n",
      " [  45    6    6 1644   29    0   78    0    5    0]\n",
      " [   4    4   87   72 1424    0  206    0    7    0]\n",
      " [   0    0    0    1    0 1822    2   24    3   10]\n",
      " [ 169    0   75   43   62    1 1387    0   13    0]\n",
      " [   0    0    0    0    0   43    0 1744    3   28]\n",
      " [   6    2    3    4    1    3   18    2 1725    0]\n",
      " [   0    0    0    0    1   16    0   67    4 1742]]\n"
     ]
    },
    {
     "data": {
      "text/plain": [
       "<matplotlib.axes._subplots.AxesSubplot at 0x2b72a5e6908>"
      ]
     },
     "execution_count": 45,
     "metadata": {},
     "output_type": "execute_result"
    },
    {
     "data": {
      "image/png": "[encoded data removed]",
      "text/plain": [
       "<Figure size 1008x720 with 2 Axes>"
      ]
     },
     "metadata": {
      "needs_background": "light"
     },
     "output_type": "display_data"
    }
   ],
   "source": [
    "from sklearn.metrics import confusion_matrix\n",
    "\n",
    "print(confusion_matrix(y_test,predict_class))\n",
    "Matrix = confusion_matrix(y_test,predict_class)\n",
    "plt.figure(figsize=(14,10))\n",
    "sns.heatmap(Matrix,annot=True,cmap='plasma')#Annot tell column number "
   ]
  },
  {
   "cell_type": "code",
   "execution_count": 46,
   "metadata": {},
   "outputs": [
    {
     "name": "stdout",
     "output_type": "stream",
     "text": [
      "              precision    recall  f1-score   support\n",
      "\n",
      "     Class 0       0.85      0.85      0.85      1802\n",
      "     Class 1       0.99      0.97      0.98      1770\n",
      "     Class 2       0.88      0.79      0.83      1787\n",
      "     Class 3       0.89      0.91      0.90      1813\n",
      "     Class 4       0.86      0.79      0.82      1804\n",
      "     Class 5       0.96      0.98      0.97      1862\n",
      "     Class 6       0.66      0.79      0.72      1750\n",
      "     Class 7       0.95      0.96      0.95      1818\n",
      "     Class 8       0.97      0.98      0.97      1764\n",
      "     Class 9       0.98      0.95      0.97      1830\n",
      "\n",
      "    accuracy                           0.90     18000\n",
      "   macro avg       0.90      0.90      0.90     18000\n",
      "weighted avg       0.90      0.90      0.90     18000\n",
      "\n"
     ]
    }
   ],
   "source": [
    "from sklearn.metrics import classification_report\n",
    "noOfClasses=10\n",
    "\n",
    "MyClass_names = [\"Class {}\".format(i) for i in range(noOfClasses)]\n",
    "print(classification_report(y_test,predict_class,target_names=MyClass_names)) "
   ]
  },
  {
   "cell_type": "code",
   "execution_count": 164,
   "metadata": {},
   "outputs": [],
   "source": [
    "#So we see it was most difficult for Class 6 to predict with accuracy, as low accuracy for Class 6"
   ]
  },
  {
   "cell_type": "code",
   "execution_count": 54,
   "metadata": {},
   "outputs": [
    {
     "name": "stdout",
     "output_type": "stream",
     "text": [
      "10000/10000 [==============================] - 1s 73us/step\n",
      "Test Accuracy =  0.8988\n"
     ]
    }
   ],
   "source": [
    "#Now if you want to use it on HoldOutDataset\n",
    "evaluation = Cnn_Model.evaluate(HoldOutXData,HoldOutYData)\n",
    "print('Test Accuracy = ', evaluation[1])"
   ]
  },
  {
   "cell_type": "code",
   "execution_count": null,
   "metadata": {},
   "outputs": [],
   "source": []
  },
  {
   "cell_type": "code",
   "execution_count": null,
   "metadata": {},
   "outputs": [],
   "source": []
  }
 ],
 "metadata": {
  "kernelspec": {
   "display_name": "Python 3",
   "language": "python",
   "name": "python3"
  },
  "language_info": {
   "codemirror_mode": {
    "name": "ipython",
    "version": 3
   },
   "file_extension": ".py",
   "mimetype": "text/x-python",
   "name": "python",
   "nbconvert_exporter": "python",
   "pygments_lexer": "ipython3",
   "version": "3.7.6"
  }
 },
 "nbformat": 4,
 "nbformat_minor": 4
}
