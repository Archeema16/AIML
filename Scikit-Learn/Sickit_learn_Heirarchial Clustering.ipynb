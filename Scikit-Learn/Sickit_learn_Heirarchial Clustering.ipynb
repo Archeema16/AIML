{
 "cells": [
  {
   "cell_type": "code",
   "execution_count": 1,
   "metadata": {},
   "outputs": [],
   "source": [
    "import matplotlib.pyplot as plt\n",
    "import pandas as pd\n",
    "%matplotlib inline\n",
    "import numpy as np\n"
   ]
  },
  {
   "cell_type": "code",
   "execution_count": 2,
   "metadata": {},
   "outputs": [],
   "source": [
    "X = np.array([[5,3],\n",
    "    [10,15],\n",
    "    [15,12],\n",
    "    [24,10],\n",
    "    [30,30],\n",
    "    [85,70],\n",
    "    [71,80],\n",
    "    [60,78],\n",
    "    [70,55],\n",
    "    [80,91],])"
   ]
  },
  {
   "cell_type": "code",
   "execution_count": 5,
   "metadata": {},
   "outputs": [
    {
     "data": {
      "text/plain": [
       "array([0, 0, 0, 0, 0, 2, 1, 1, 2, 1], dtype=int64)"
      ]
     },
     "execution_count": 5,
     "metadata": {},
     "output_type": "execute_result"
    }
   ],
   "source": [
    "from sklearn.cluster import AgglomerativeClustering\n",
    "#Linkage ward means minimizing distance\n",
    "cluster = AgglomerativeClustering(n_clusters=3, affinity='euclidean', linkage='ward')\n",
    "cluster.fit_predict(X)"
   ]
  },
  {
   "cell_type": "code",
   "execution_count": 4,
   "metadata": {},
   "outputs": [
    {
     "data": {
      "text/plain": [
       "<matplotlib.collections.PathCollection at 0x1f78e8e80c8>"
      ]
     },
     "execution_count": 4,
     "metadata": {},
     "output_type": "execute_result"
    },
    {
     "data": {
      "image/png": "[encoded data removed]",
      "text/plain": [
       "<Figure size 432x288 with 1 Axes>"
      ]
     },
     "metadata": {
      "needs_background": "light"
     },
     "output_type": "display_data"
    }
   ],
   "source": [
    "plt.scatter(X[:,0],X[:,1], c=cluster.labels_, cmap='rainbow')"
   ]
  },
  {
   "cell_type": "code",
   "execution_count": 12,
   "metadata": {},
   "outputs": [
    {
     "data": {
      "text/html": [
       "<div>\n",
       "<style scoped>\n",
       "    .dataframe tbody tr th:only-of-type {\n",
       "        vertical-align: middle;\n",
       "    }\n",
       "\n",
       "    .dataframe tbody tr th {\n",
       "        vertical-align: top;\n",
       "    }\n",
       "\n",
       "    .dataframe thead th {\n",
       "        text-align: right;\n",
       "    }\n",
       "</style>\n",
       "<table border=\"1\" class=\"dataframe\">\n",
       "  <thead>\n",
       "    <tr style=\"text-align: right;\">\n",
       "      <th></th>\n",
       "      <th>CustomerID</th>\n",
       "      <th>Genre</th>\n",
       "      <th>Age</th>\n",
       "      <th>Annual Income (k$)</th>\n",
       "      <th>Spending Score (1-100)</th>\n",
       "    </tr>\n",
       "  </thead>\n",
       "  <tbody>\n",
       "    <tr>\n",
       "      <th>0</th>\n",
       "      <td>1</td>\n",
       "      <td>Male</td>\n",
       "      <td>19</td>\n",
       "      <td>15</td>\n",
       "      <td>39</td>\n",
       "    </tr>\n",
       "    <tr>\n",
       "      <th>1</th>\n",
       "      <td>2</td>\n",
       "      <td>Male</td>\n",
       "      <td>21</td>\n",
       "      <td>15</td>\n",
       "      <td>81</td>\n",
       "    </tr>\n",
       "    <tr>\n",
       "      <th>2</th>\n",
       "      <td>3</td>\n",
       "      <td>Female</td>\n",
       "      <td>20</td>\n",
       "      <td>16</td>\n",
       "      <td>6</td>\n",
       "    </tr>\n",
       "    <tr>\n",
       "      <th>3</th>\n",
       "      <td>4</td>\n",
       "      <td>Female</td>\n",
       "      <td>23</td>\n",
       "      <td>16</td>\n",
       "      <td>77</td>\n",
       "    </tr>\n",
       "    <tr>\n",
       "      <th>4</th>\n",
       "      <td>5</td>\n",
       "      <td>Female</td>\n",
       "      <td>31</td>\n",
       "      <td>17</td>\n",
       "      <td>40</td>\n",
       "    </tr>\n",
       "  </tbody>\n",
       "</table>\n",
       "</div>"
      ],
      "text/plain": [
       "   CustomerID   Genre  Age  Annual Income (k$)  Spending Score (1-100)\n",
       "0           1    Male   19                  15                      39\n",
       "1           2    Male   21                  15                      81\n",
       "2           3  Female   20                  16                       6\n",
       "3           4  Female   23                  16                      77\n",
       "4           5  Female   31                  17                      40"
      ]
     },
     "execution_count": 12,
     "metadata": {},
     "output_type": "execute_result"
    }
   ],
   "source": [
    "df = pd.read_csv(\"shoppingdata.csv\")\n",
    "df.head()"
   ]
  },
  {
   "cell_type": "code",
   "execution_count": 13,
   "metadata": {},
   "outputs": [],
   "source": [
    "data = df.iloc[:, 2:5].values"
   ]
  },
  {
   "cell_type": "code",
   "execution_count": 14,
   "metadata": {},
   "outputs": [
    {
     "data": {
      "text/plain": [
       "array([[ 19,  15,  39],\n",
       "       [ 21,  15,  81],\n",
       "       [ 20,  16,   6],\n",
       "       [ 23,  16,  77],\n",
       "       [ 31,  17,  40],\n",
       "       [ 22,  17,  76],\n",
       "       [ 35,  18,   6],\n",
       "       [ 23,  18,  94],\n",
       "       [ 64,  19,   3],\n",
       "       [ 30,  19,  72],\n",
       "       [ 67,  19,  14],\n",
       "       [ 35,  19,  99],\n",
       "       [ 58,  20,  15],\n",
       "       [ 24,  20,  77],\n",
       "       [ 37,  20,  13],\n",
       "       [ 22,  20,  79],\n",
       "       [ 35,  21,  35],\n",
       "       [ 20,  21,  66],\n",
       "       [ 52,  23,  29],\n",
       "       [ 35,  23,  98],\n",
       "       [ 35,  24,  35],\n",
       "       [ 25,  24,  73],\n",
       "       [ 46,  25,   5],\n",
       "       [ 31,  25,  73],\n",
       "       [ 54,  28,  14],\n",
       "       [ 29,  28,  82],\n",
       "       [ 45,  28,  32],\n",
       "       [ 35,  28,  61],\n",
       "       [ 40,  29,  31],\n",
       "       [ 23,  29,  87],\n",
       "       [ 60,  30,   4],\n",
       "       [ 21,  30,  73],\n",
       "       [ 53,  33,   4],\n",
       "       [ 18,  33,  92],\n",
       "       [ 49,  33,  14],\n",
       "       [ 21,  33,  81],\n",
       "       [ 42,  34,  17],\n",
       "       [ 30,  34,  73],\n",
       "       [ 36,  37,  26],\n",
       "       [ 20,  37,  75],\n",
       "       [ 65,  38,  35],\n",
       "       [ 24,  38,  92],\n",
       "       [ 48,  39,  36],\n",
       "       [ 31,  39,  61],\n",
       "       [ 49,  39,  28],\n",
       "       [ 24,  39,  65],\n",
       "       [ 50,  40,  55],\n",
       "       [ 27,  40,  47],\n",
       "       [ 29,  40,  42],\n",
       "       [ 31,  40,  42],\n",
       "       [ 49,  42,  52],\n",
       "       [ 33,  42,  60],\n",
       "       [ 31,  43,  54],\n",
       "       [ 59,  43,  60],\n",
       "       [ 50,  43,  45],\n",
       "       [ 47,  43,  41],\n",
       "       [ 51,  44,  50],\n",
       "       [ 69,  44,  46],\n",
       "       [ 27,  46,  51],\n",
       "       [ 53,  46,  46],\n",
       "       [ 70,  46,  56],\n",
       "       [ 19,  46,  55],\n",
       "       [ 67,  47,  52],\n",
       "       [ 54,  47,  59],\n",
       "       [ 63,  48,  51],\n",
       "       [ 18,  48,  59],\n",
       "       [ 43,  48,  50],\n",
       "       [ 68,  48,  48],\n",
       "       [ 19,  48,  59],\n",
       "       [ 32,  48,  47],\n",
       "       [ 70,  49,  55],\n",
       "       [ 47,  49,  42],\n",
       "       [ 60,  50,  49],\n",
       "       [ 60,  50,  56],\n",
       "       [ 59,  54,  47],\n",
       "       [ 26,  54,  54],\n",
       "       [ 45,  54,  53],\n",
       "       [ 40,  54,  48],\n",
       "       [ 23,  54,  52],\n",
       "       [ 49,  54,  42],\n",
       "       [ 57,  54,  51],\n",
       "       [ 38,  54,  55],\n",
       "       [ 67,  54,  41],\n",
       "       [ 46,  54,  44],\n",
       "       [ 21,  54,  57],\n",
       "       [ 48,  54,  46],\n",
       "       [ 55,  57,  58],\n",
       "       [ 22,  57,  55],\n",
       "       [ 34,  58,  60],\n",
       "       [ 50,  58,  46],\n",
       "       [ 68,  59,  55],\n",
       "       [ 18,  59,  41],\n",
       "       [ 48,  60,  49],\n",
       "       [ 40,  60,  40],\n",
       "       [ 32,  60,  42],\n",
       "       [ 24,  60,  52],\n",
       "       [ 47,  60,  47],\n",
       "       [ 27,  60,  50],\n",
       "       [ 48,  61,  42],\n",
       "       [ 20,  61,  49],\n",
       "       [ 23,  62,  41],\n",
       "       [ 49,  62,  48],\n",
       "       [ 67,  62,  59],\n",
       "       [ 26,  62,  55],\n",
       "       [ 49,  62,  56],\n",
       "       [ 21,  62,  42],\n",
       "       [ 66,  63,  50],\n",
       "       [ 54,  63,  46],\n",
       "       [ 68,  63,  43],\n",
       "       [ 66,  63,  48],\n",
       "       [ 65,  63,  52],\n",
       "       [ 19,  63,  54],\n",
       "       [ 38,  64,  42],\n",
       "       [ 19,  64,  46],\n",
       "       [ 18,  65,  48],\n",
       "       [ 19,  65,  50],\n",
       "       [ 63,  65,  43],\n",
       "       [ 49,  65,  59],\n",
       "       [ 51,  67,  43],\n",
       "       [ 50,  67,  57],\n",
       "       [ 27,  67,  56],\n",
       "       [ 38,  67,  40],\n",
       "       [ 40,  69,  58],\n",
       "       [ 39,  69,  91],\n",
       "       [ 23,  70,  29],\n",
       "       [ 31,  70,  77],\n",
       "       [ 43,  71,  35],\n",
       "       [ 40,  71,  95],\n",
       "       [ 59,  71,  11],\n",
       "       [ 38,  71,  75],\n",
       "       [ 47,  71,   9],\n",
       "       [ 39,  71,  75],\n",
       "       [ 25,  72,  34],\n",
       "       [ 31,  72,  71],\n",
       "       [ 20,  73,   5],\n",
       "       [ 29,  73,  88],\n",
       "       [ 44,  73,   7],\n",
       "       [ 32,  73,  73],\n",
       "       [ 19,  74,  10],\n",
       "       [ 35,  74,  72],\n",
       "       [ 57,  75,   5],\n",
       "       [ 32,  75,  93],\n",
       "       [ 28,  76,  40],\n",
       "       [ 32,  76,  87],\n",
       "       [ 25,  77,  12],\n",
       "       [ 28,  77,  97],\n",
       "       [ 48,  77,  36],\n",
       "       [ 32,  77,  74],\n",
       "       [ 34,  78,  22],\n",
       "       [ 34,  78,  90],\n",
       "       [ 43,  78,  17],\n",
       "       [ 39,  78,  88],\n",
       "       [ 44,  78,  20],\n",
       "       [ 38,  78,  76],\n",
       "       [ 47,  78,  16],\n",
       "       [ 27,  78,  89],\n",
       "       [ 37,  78,   1],\n",
       "       [ 30,  78,  78],\n",
       "       [ 34,  78,   1],\n",
       "       [ 30,  78,  73],\n",
       "       [ 56,  79,  35],\n",
       "       [ 29,  79,  83],\n",
       "       [ 19,  81,   5],\n",
       "       [ 31,  81,  93],\n",
       "       [ 50,  85,  26],\n",
       "       [ 36,  85,  75],\n",
       "       [ 42,  86,  20],\n",
       "       [ 33,  86,  95],\n",
       "       [ 36,  87,  27],\n",
       "       [ 32,  87,  63],\n",
       "       [ 40,  87,  13],\n",
       "       [ 28,  87,  75],\n",
       "       [ 36,  87,  10],\n",
       "       [ 36,  87,  92],\n",
       "       [ 52,  88,  13],\n",
       "       [ 30,  88,  86],\n",
       "       [ 58,  88,  15],\n",
       "       [ 27,  88,  69],\n",
       "       [ 59,  93,  14],\n",
       "       [ 35,  93,  90],\n",
       "       [ 37,  97,  32],\n",
       "       [ 32,  97,  86],\n",
       "       [ 46,  98,  15],\n",
       "       [ 29,  98,  88],\n",
       "       [ 41,  99,  39],\n",
       "       [ 30,  99,  97],\n",
       "       [ 54, 101,  24],\n",
       "       [ 28, 101,  68],\n",
       "       [ 41, 103,  17],\n",
       "       [ 36, 103,  85],\n",
       "       [ 34, 103,  23],\n",
       "       [ 32, 103,  69],\n",
       "       [ 33, 113,   8],\n",
       "       [ 38, 113,  91],\n",
       "       [ 47, 120,  16],\n",
       "       [ 35, 120,  79],\n",
       "       [ 45, 126,  28],\n",
       "       [ 32, 126,  74],\n",
       "       [ 32, 137,  18],\n",
       "       [ 30, 137,  83]], dtype=int64)"
      ]
     },
     "execution_count": 14,
     "metadata": {},
     "output_type": "execute_result"
    }
   ],
   "source": [
    "data"
   ]
  },
  {
   "cell_type": "code",
   "execution_count": 15,
   "metadata": {},
   "outputs": [
    {
     "data": {
      "image/png": "[encoded data removed]",
      "text/plain": [
       "<Figure size 720x504 with 1 Axes>"
      ]
     },
     "metadata": {
      "needs_background": "light"
     },
     "output_type": "display_data"
    }
   ],
   "source": [
    "import scipy.cluster.hierarchy as shc\n",
    "\n",
    "plt.figure(figsize=(10, 7))\n",
    "plt.title(\"Customer Dendograms\")\n",
    "dend = shc.dendrogram(shc.linkage(data, method='ward'))"
   ]
  },
  {
   "cell_type": "code",
   "execution_count": 16,
   "metadata": {},
   "outputs": [
    {
     "data": {
      "text/plain": [
       "array([4, 3, 4, 3, 4, 3, 4, 3, 4, 3, 4, 3, 4, 3, 4, 3, 4, 3, 4, 3, 4, 3,\n",
       "       4, 3, 4, 3, 4, 0, 4, 3, 4, 3, 4, 3, 4, 3, 4, 3, 4, 3, 4, 3, 4, 0,\n",
       "       4, 0, 0, 0, 0, 0, 0, 0, 0, 0, 0, 0, 0, 0, 0, 0, 0, 0, 0, 0, 0, 0,\n",
       "       0, 0, 0, 0, 0, 0, 0, 0, 0, 0, 0, 0, 0, 0, 0, 0, 0, 0, 0, 0, 0, 0,\n",
       "       0, 0, 0, 0, 0, 0, 0, 0, 0, 0, 0, 0, 0, 0, 0, 0, 0, 0, 0, 0, 0, 0,\n",
       "       0, 0, 0, 0, 0, 0, 0, 0, 0, 0, 0, 0, 0, 2, 0, 2, 1, 2, 1, 2, 1, 2,\n",
       "       0, 2, 1, 2, 1, 2, 1, 2, 1, 2, 0, 2, 1, 2, 1, 2, 1, 2, 1, 2, 1, 2,\n",
       "       1, 2, 1, 2, 1, 2, 1, 2, 1, 2, 1, 2, 1, 2, 1, 2, 1, 2, 1, 2, 1, 2,\n",
       "       1, 2, 1, 2, 1, 2, 1, 2, 1, 2, 1, 2, 1, 2, 1, 2, 1, 2, 1, 2, 1, 2,\n",
       "       1, 2], dtype=int64)"
      ]
     },
     "execution_count": 16,
     "metadata": {},
     "output_type": "execute_result"
    }
   ],
   "source": [
    "#After looking at above picture i decided to use 5 clusters for  AgglomerativeClustering\n",
    "from sklearn.cluster import AgglomerativeClustering\n",
    "\n",
    "cluster = AgglomerativeClustering(n_clusters=5, affinity='euclidean', linkage='ward')\n",
    "cluster.fit_predict(data)"
   ]
  },
  {
   "cell_type": "code",
   "execution_count": null,
   "metadata": {},
   "outputs": [],
   "source": []
  },
  {
   "cell_type": "code",
   "execution_count": null,
   "metadata": {},
   "outputs": [],
   "source": []
  }
 ],
 "metadata": {
  "kernelspec": {
   "display_name": "Python 3",
   "language": "python",
   "name": "python3"
  },
  "language_info": {
   "codemirror_mode": {
    "name": "ipython",
    "version": 3
   },
   "file_extension": ".py",
   "mimetype": "text/x-python",
   "name": "python",
   "nbconvert_exporter": "python",
   "pygments_lexer": "ipython3",
   "version": "3.7.6"
  }
 },
 "nbformat": 4,
 "nbformat_minor": 4
}
